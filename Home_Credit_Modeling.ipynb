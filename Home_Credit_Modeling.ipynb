{
  "cells": [
    {
      "cell_type": "markdown",
      "metadata": {
        "id": "LuRpwfEHbDWW"
      },
      "source": [
        "# MODELLING HOME CREDIT USING RANDOM FOREST"
      ]
    },
    {
      "cell_type": "code",
      "execution_count": 1,
      "metadata": {
        "colab": {
          "base_uri": "https://localhost:8080/"
        },
        "id": "GhXqftBmbDWZ",
        "outputId": "ffb8a5e1-b3b0-4fbf-8d2d-d0b5cd18ffec"
      },
      "outputs": [],
      "source": [
        "# Import module\n",
        "import pandas as pd\n",
        "import seaborn as sns\n",
        "import matplotlib.pyplot as plt"
      ]
    },
    {
      "cell_type": "code",
      "execution_count": 2,
      "metadata": {
        "id": "lAvlCsbZbDWa"
      },
      "outputs": [],
      "source": [
        "# Read data\n",
        "application_train = pd.read_csv(\"dataset/application_train.csv\",index_col=0)\n",
        "application_test = pd.read_csv(\"dataset/application_test.csv\",index_col=0)"
      ]
    },
    {
      "cell_type": "code",
      "execution_count": 3,
      "metadata": {
        "colab": {
          "base_uri": "https://localhost:8080/",
          "height": 331
        },
        "id": "WTnXj8WrbDWb",
        "outputId": "92d36a48-8140-423e-b44b-3f8a44f06205"
      },
      "outputs": [
        {
          "data": {
            "text/html": [
              "<div>\n",
              "<style scoped>\n",
              "    .dataframe tbody tr th:only-of-type {\n",
              "        vertical-align: middle;\n",
              "    }\n",
              "\n",
              "    .dataframe tbody tr th {\n",
              "        vertical-align: top;\n",
              "    }\n",
              "\n",
              "    .dataframe thead th {\n",
              "        text-align: right;\n",
              "    }\n",
              "</style>\n",
              "<table border=\"1\" class=\"dataframe\">\n",
              "  <thead>\n",
              "    <tr style=\"text-align: right;\">\n",
              "      <th></th>\n",
              "      <th>TARGET</th>\n",
              "      <th>NAME_CONTRACT_TYPE</th>\n",
              "      <th>CODE_GENDER</th>\n",
              "      <th>FLAG_OWN_CAR</th>\n",
              "      <th>FLAG_OWN_REALTY</th>\n",
              "      <th>CNT_CHILDREN</th>\n",
              "      <th>AMT_INCOME_TOTAL</th>\n",
              "      <th>AMT_CREDIT</th>\n",
              "      <th>AMT_ANNUITY</th>\n",
              "      <th>AMT_GOODS_PRICE</th>\n",
              "      <th>...</th>\n",
              "      <th>FLAG_DOCUMENT_18</th>\n",
              "      <th>FLAG_DOCUMENT_19</th>\n",
              "      <th>FLAG_DOCUMENT_20</th>\n",
              "      <th>FLAG_DOCUMENT_21</th>\n",
              "      <th>AMT_REQ_CREDIT_BUREAU_HOUR</th>\n",
              "      <th>AMT_REQ_CREDIT_BUREAU_DAY</th>\n",
              "      <th>AMT_REQ_CREDIT_BUREAU_WEEK</th>\n",
              "      <th>AMT_REQ_CREDIT_BUREAU_MON</th>\n",
              "      <th>AMT_REQ_CREDIT_BUREAU_QRT</th>\n",
              "      <th>AMT_REQ_CREDIT_BUREAU_YEAR</th>\n",
              "    </tr>\n",
              "    <tr>\n",
              "      <th>SK_ID_CURR</th>\n",
              "      <th></th>\n",
              "      <th></th>\n",
              "      <th></th>\n",
              "      <th></th>\n",
              "      <th></th>\n",
              "      <th></th>\n",
              "      <th></th>\n",
              "      <th></th>\n",
              "      <th></th>\n",
              "      <th></th>\n",
              "      <th></th>\n",
              "      <th></th>\n",
              "      <th></th>\n",
              "      <th></th>\n",
              "      <th></th>\n",
              "      <th></th>\n",
              "      <th></th>\n",
              "      <th></th>\n",
              "      <th></th>\n",
              "      <th></th>\n",
              "      <th></th>\n",
              "    </tr>\n",
              "  </thead>\n",
              "  <tbody>\n",
              "    <tr>\n",
              "      <th>100002</th>\n",
              "      <td>1</td>\n",
              "      <td>Cash loans</td>\n",
              "      <td>M</td>\n",
              "      <td>N</td>\n",
              "      <td>Y</td>\n",
              "      <td>0</td>\n",
              "      <td>202500.0</td>\n",
              "      <td>406597.5</td>\n",
              "      <td>24700.5</td>\n",
              "      <td>351000.0</td>\n",
              "      <td>...</td>\n",
              "      <td>0</td>\n",
              "      <td>0</td>\n",
              "      <td>0</td>\n",
              "      <td>0</td>\n",
              "      <td>0.0</td>\n",
              "      <td>0.0</td>\n",
              "      <td>0.0</td>\n",
              "      <td>0.0</td>\n",
              "      <td>0.0</td>\n",
              "      <td>1.0</td>\n",
              "    </tr>\n",
              "    <tr>\n",
              "      <th>100003</th>\n",
              "      <td>0</td>\n",
              "      <td>Cash loans</td>\n",
              "      <td>F</td>\n",
              "      <td>N</td>\n",
              "      <td>N</td>\n",
              "      <td>0</td>\n",
              "      <td>270000.0</td>\n",
              "      <td>1293502.5</td>\n",
              "      <td>35698.5</td>\n",
              "      <td>1129500.0</td>\n",
              "      <td>...</td>\n",
              "      <td>0</td>\n",
              "      <td>0</td>\n",
              "      <td>0</td>\n",
              "      <td>0</td>\n",
              "      <td>0.0</td>\n",
              "      <td>0.0</td>\n",
              "      <td>0.0</td>\n",
              "      <td>0.0</td>\n",
              "      <td>0.0</td>\n",
              "      <td>0.0</td>\n",
              "    </tr>\n",
              "    <tr>\n",
              "      <th>100004</th>\n",
              "      <td>0</td>\n",
              "      <td>Revolving loans</td>\n",
              "      <td>M</td>\n",
              "      <td>Y</td>\n",
              "      <td>Y</td>\n",
              "      <td>0</td>\n",
              "      <td>67500.0</td>\n",
              "      <td>135000.0</td>\n",
              "      <td>6750.0</td>\n",
              "      <td>135000.0</td>\n",
              "      <td>...</td>\n",
              "      <td>0</td>\n",
              "      <td>0</td>\n",
              "      <td>0</td>\n",
              "      <td>0</td>\n",
              "      <td>0.0</td>\n",
              "      <td>0.0</td>\n",
              "      <td>0.0</td>\n",
              "      <td>0.0</td>\n",
              "      <td>0.0</td>\n",
              "      <td>0.0</td>\n",
              "    </tr>\n",
              "    <tr>\n",
              "      <th>100006</th>\n",
              "      <td>0</td>\n",
              "      <td>Cash loans</td>\n",
              "      <td>F</td>\n",
              "      <td>N</td>\n",
              "      <td>Y</td>\n",
              "      <td>0</td>\n",
              "      <td>135000.0</td>\n",
              "      <td>312682.5</td>\n",
              "      <td>29686.5</td>\n",
              "      <td>297000.0</td>\n",
              "      <td>...</td>\n",
              "      <td>0</td>\n",
              "      <td>0</td>\n",
              "      <td>0</td>\n",
              "      <td>0</td>\n",
              "      <td>NaN</td>\n",
              "      <td>NaN</td>\n",
              "      <td>NaN</td>\n",
              "      <td>NaN</td>\n",
              "      <td>NaN</td>\n",
              "      <td>NaN</td>\n",
              "    </tr>\n",
              "    <tr>\n",
              "      <th>100007</th>\n",
              "      <td>0</td>\n",
              "      <td>Cash loans</td>\n",
              "      <td>M</td>\n",
              "      <td>N</td>\n",
              "      <td>Y</td>\n",
              "      <td>0</td>\n",
              "      <td>121500.0</td>\n",
              "      <td>513000.0</td>\n",
              "      <td>21865.5</td>\n",
              "      <td>513000.0</td>\n",
              "      <td>...</td>\n",
              "      <td>0</td>\n",
              "      <td>0</td>\n",
              "      <td>0</td>\n",
              "      <td>0</td>\n",
              "      <td>0.0</td>\n",
              "      <td>0.0</td>\n",
              "      <td>0.0</td>\n",
              "      <td>0.0</td>\n",
              "      <td>0.0</td>\n",
              "      <td>0.0</td>\n",
              "    </tr>\n",
              "  </tbody>\n",
              "</table>\n",
              "<p>5 rows × 121 columns</p>\n",
              "</div>"
            ],
            "text/plain": [
              "            TARGET NAME_CONTRACT_TYPE CODE_GENDER FLAG_OWN_CAR  \\\n",
              "SK_ID_CURR                                                       \n",
              "100002           1         Cash loans           M            N   \n",
              "100003           0         Cash loans           F            N   \n",
              "100004           0    Revolving loans           M            Y   \n",
              "100006           0         Cash loans           F            N   \n",
              "100007           0         Cash loans           M            N   \n",
              "\n",
              "           FLAG_OWN_REALTY  CNT_CHILDREN  AMT_INCOME_TOTAL  AMT_CREDIT  \\\n",
              "SK_ID_CURR                                                               \n",
              "100002                   Y             0          202500.0    406597.5   \n",
              "100003                   N             0          270000.0   1293502.5   \n",
              "100004                   Y             0           67500.0    135000.0   \n",
              "100006                   Y             0          135000.0    312682.5   \n",
              "100007                   Y             0          121500.0    513000.0   \n",
              "\n",
              "            AMT_ANNUITY  AMT_GOODS_PRICE  ... FLAG_DOCUMENT_18  \\\n",
              "SK_ID_CURR                                ...                    \n",
              "100002          24700.5         351000.0  ...                0   \n",
              "100003          35698.5        1129500.0  ...                0   \n",
              "100004           6750.0         135000.0  ...                0   \n",
              "100006          29686.5         297000.0  ...                0   \n",
              "100007          21865.5         513000.0  ...                0   \n",
              "\n",
              "           FLAG_DOCUMENT_19 FLAG_DOCUMENT_20 FLAG_DOCUMENT_21  \\\n",
              "SK_ID_CURR                                                      \n",
              "100002                    0                0                0   \n",
              "100003                    0                0                0   \n",
              "100004                    0                0                0   \n",
              "100006                    0                0                0   \n",
              "100007                    0                0                0   \n",
              "\n",
              "           AMT_REQ_CREDIT_BUREAU_HOUR  AMT_REQ_CREDIT_BUREAU_DAY  \\\n",
              "SK_ID_CURR                                                         \n",
              "100002                            0.0                        0.0   \n",
              "100003                            0.0                        0.0   \n",
              "100004                            0.0                        0.0   \n",
              "100006                            NaN                        NaN   \n",
              "100007                            0.0                        0.0   \n",
              "\n",
              "            AMT_REQ_CREDIT_BUREAU_WEEK  AMT_REQ_CREDIT_BUREAU_MON  \\\n",
              "SK_ID_CURR                                                          \n",
              "100002                             0.0                        0.0   \n",
              "100003                             0.0                        0.0   \n",
              "100004                             0.0                        0.0   \n",
              "100006                             NaN                        NaN   \n",
              "100007                             0.0                        0.0   \n",
              "\n",
              "            AMT_REQ_CREDIT_BUREAU_QRT  AMT_REQ_CREDIT_BUREAU_YEAR  \n",
              "SK_ID_CURR                                                         \n",
              "100002                            0.0                         1.0  \n",
              "100003                            0.0                         0.0  \n",
              "100004                            0.0                         0.0  \n",
              "100006                            NaN                         NaN  \n",
              "100007                            0.0                         0.0  \n",
              "\n",
              "[5 rows x 121 columns]"
            ]
          },
          "execution_count": 3,
          "metadata": {},
          "output_type": "execute_result"
        }
      ],
      "source": [
        "# See data\n",
        "application_train.head()"
      ]
    },
    {
      "cell_type": "code",
      "execution_count": 4,
      "metadata": {
        "colab": {
          "base_uri": "https://localhost:8080/"
        },
        "id": "t9u-a38ObDWc",
        "outputId": "076c32ea-ddd8-4172-f6b9-534ad4211f9b"
      },
      "outputs": [
        {
          "data": {
            "text/plain": [
              "array(['Cash loans', 'Revolving loans'], dtype=object)"
            ]
          },
          "execution_count": 4,
          "metadata": {},
          "output_type": "execute_result"
        }
      ],
      "source": [
        "# check unique value\n",
        "application_train['NAME_CONTRACT_TYPE'].unique()"
      ]
    },
    {
      "cell_type": "code",
      "execution_count": 5,
      "metadata": {
        "colab": {
          "base_uri": "https://localhost:8080/"
        },
        "id": "gWdDDE5ebDWc",
        "outputId": "5d107e69-705d-40f0-cf5e-d6c45c4e10b9"
      },
      "outputs": [
        {
          "name": "stdout",
          "output_type": "stream",
          "text": [
            "(307511, 121)\n",
            "(48744, 120)\n"
          ]
        }
      ],
      "source": [
        "print(application_train.shape)\n",
        "print(application_test.shape)"
      ]
    },
    {
      "cell_type": "code",
      "execution_count": 6,
      "metadata": {
        "colab": {
          "base_uri": "https://localhost:8080/",
          "height": 331
        },
        "id": "0mYPG-trbDWd",
        "outputId": "4f1a4410-fb6a-4fdc-ee1a-0f2621262aec"
      },
      "outputs": [
        {
          "data": {
            "text/html": [
              "<div>\n",
              "<style scoped>\n",
              "    .dataframe tbody tr th:only-of-type {\n",
              "        vertical-align: middle;\n",
              "    }\n",
              "\n",
              "    .dataframe tbody tr th {\n",
              "        vertical-align: top;\n",
              "    }\n",
              "\n",
              "    .dataframe thead th {\n",
              "        text-align: right;\n",
              "    }\n",
              "</style>\n",
              "<table border=\"1\" class=\"dataframe\">\n",
              "  <thead>\n",
              "    <tr style=\"text-align: right;\">\n",
              "      <th></th>\n",
              "      <th>TARGET</th>\n",
              "      <th>NAME_CONTRACT_TYPE</th>\n",
              "      <th>CODE_GENDER</th>\n",
              "      <th>FLAG_OWN_CAR</th>\n",
              "      <th>FLAG_OWN_REALTY</th>\n",
              "      <th>CNT_CHILDREN</th>\n",
              "      <th>AMT_INCOME_TOTAL</th>\n",
              "      <th>AMT_CREDIT</th>\n",
              "      <th>AMT_ANNUITY</th>\n",
              "      <th>AMT_GOODS_PRICE</th>\n",
              "      <th>...</th>\n",
              "      <th>FLAG_DOCUMENT_18</th>\n",
              "      <th>FLAG_DOCUMENT_19</th>\n",
              "      <th>FLAG_DOCUMENT_20</th>\n",
              "      <th>FLAG_DOCUMENT_21</th>\n",
              "      <th>AMT_REQ_CREDIT_BUREAU_HOUR</th>\n",
              "      <th>AMT_REQ_CREDIT_BUREAU_DAY</th>\n",
              "      <th>AMT_REQ_CREDIT_BUREAU_WEEK</th>\n",
              "      <th>AMT_REQ_CREDIT_BUREAU_MON</th>\n",
              "      <th>AMT_REQ_CREDIT_BUREAU_QRT</th>\n",
              "      <th>AMT_REQ_CREDIT_BUREAU_YEAR</th>\n",
              "    </tr>\n",
              "    <tr>\n",
              "      <th>SK_ID_CURR</th>\n",
              "      <th></th>\n",
              "      <th></th>\n",
              "      <th></th>\n",
              "      <th></th>\n",
              "      <th></th>\n",
              "      <th></th>\n",
              "      <th></th>\n",
              "      <th></th>\n",
              "      <th></th>\n",
              "      <th></th>\n",
              "      <th></th>\n",
              "      <th></th>\n",
              "      <th></th>\n",
              "      <th></th>\n",
              "      <th></th>\n",
              "      <th></th>\n",
              "      <th></th>\n",
              "      <th></th>\n",
              "      <th></th>\n",
              "      <th></th>\n",
              "      <th></th>\n",
              "    </tr>\n",
              "  </thead>\n",
              "  <tbody>\n",
              "    <tr>\n",
              "      <th>100002</th>\n",
              "      <td>1</td>\n",
              "      <td>Cash loans</td>\n",
              "      <td>M</td>\n",
              "      <td>N</td>\n",
              "      <td>Y</td>\n",
              "      <td>0</td>\n",
              "      <td>202500.0</td>\n",
              "      <td>406597.5</td>\n",
              "      <td>24700.5</td>\n",
              "      <td>351000.0</td>\n",
              "      <td>...</td>\n",
              "      <td>0</td>\n",
              "      <td>0</td>\n",
              "      <td>0</td>\n",
              "      <td>0</td>\n",
              "      <td>0.0</td>\n",
              "      <td>0.0</td>\n",
              "      <td>0.0</td>\n",
              "      <td>0.0</td>\n",
              "      <td>0.0</td>\n",
              "      <td>1.0</td>\n",
              "    </tr>\n",
              "    <tr>\n",
              "      <th>100003</th>\n",
              "      <td>0</td>\n",
              "      <td>Cash loans</td>\n",
              "      <td>F</td>\n",
              "      <td>N</td>\n",
              "      <td>N</td>\n",
              "      <td>0</td>\n",
              "      <td>270000.0</td>\n",
              "      <td>1293502.5</td>\n",
              "      <td>35698.5</td>\n",
              "      <td>1129500.0</td>\n",
              "      <td>...</td>\n",
              "      <td>0</td>\n",
              "      <td>0</td>\n",
              "      <td>0</td>\n",
              "      <td>0</td>\n",
              "      <td>0.0</td>\n",
              "      <td>0.0</td>\n",
              "      <td>0.0</td>\n",
              "      <td>0.0</td>\n",
              "      <td>0.0</td>\n",
              "      <td>0.0</td>\n",
              "    </tr>\n",
              "    <tr>\n",
              "      <th>100004</th>\n",
              "      <td>0</td>\n",
              "      <td>Revolving loans</td>\n",
              "      <td>M</td>\n",
              "      <td>Y</td>\n",
              "      <td>Y</td>\n",
              "      <td>0</td>\n",
              "      <td>67500.0</td>\n",
              "      <td>135000.0</td>\n",
              "      <td>6750.0</td>\n",
              "      <td>135000.0</td>\n",
              "      <td>...</td>\n",
              "      <td>0</td>\n",
              "      <td>0</td>\n",
              "      <td>0</td>\n",
              "      <td>0</td>\n",
              "      <td>0.0</td>\n",
              "      <td>0.0</td>\n",
              "      <td>0.0</td>\n",
              "      <td>0.0</td>\n",
              "      <td>0.0</td>\n",
              "      <td>0.0</td>\n",
              "    </tr>\n",
              "    <tr>\n",
              "      <th>100006</th>\n",
              "      <td>0</td>\n",
              "      <td>Cash loans</td>\n",
              "      <td>F</td>\n",
              "      <td>N</td>\n",
              "      <td>Y</td>\n",
              "      <td>0</td>\n",
              "      <td>135000.0</td>\n",
              "      <td>312682.5</td>\n",
              "      <td>29686.5</td>\n",
              "      <td>297000.0</td>\n",
              "      <td>...</td>\n",
              "      <td>0</td>\n",
              "      <td>0</td>\n",
              "      <td>0</td>\n",
              "      <td>0</td>\n",
              "      <td>NaN</td>\n",
              "      <td>NaN</td>\n",
              "      <td>NaN</td>\n",
              "      <td>NaN</td>\n",
              "      <td>NaN</td>\n",
              "      <td>NaN</td>\n",
              "    </tr>\n",
              "    <tr>\n",
              "      <th>100007</th>\n",
              "      <td>0</td>\n",
              "      <td>Cash loans</td>\n",
              "      <td>M</td>\n",
              "      <td>N</td>\n",
              "      <td>Y</td>\n",
              "      <td>0</td>\n",
              "      <td>121500.0</td>\n",
              "      <td>513000.0</td>\n",
              "      <td>21865.5</td>\n",
              "      <td>513000.0</td>\n",
              "      <td>...</td>\n",
              "      <td>0</td>\n",
              "      <td>0</td>\n",
              "      <td>0</td>\n",
              "      <td>0</td>\n",
              "      <td>0.0</td>\n",
              "      <td>0.0</td>\n",
              "      <td>0.0</td>\n",
              "      <td>0.0</td>\n",
              "      <td>0.0</td>\n",
              "      <td>0.0</td>\n",
              "    </tr>\n",
              "  </tbody>\n",
              "</table>\n",
              "<p>5 rows × 121 columns</p>\n",
              "</div>"
            ],
            "text/plain": [
              "            TARGET NAME_CONTRACT_TYPE CODE_GENDER FLAG_OWN_CAR  \\\n",
              "SK_ID_CURR                                                       \n",
              "100002           1         Cash loans           M            N   \n",
              "100003           0         Cash loans           F            N   \n",
              "100004           0    Revolving loans           M            Y   \n",
              "100006           0         Cash loans           F            N   \n",
              "100007           0         Cash loans           M            N   \n",
              "\n",
              "           FLAG_OWN_REALTY  CNT_CHILDREN  AMT_INCOME_TOTAL  AMT_CREDIT  \\\n",
              "SK_ID_CURR                                                               \n",
              "100002                   Y             0          202500.0    406597.5   \n",
              "100003                   N             0          270000.0   1293502.5   \n",
              "100004                   Y             0           67500.0    135000.0   \n",
              "100006                   Y             0          135000.0    312682.5   \n",
              "100007                   Y             0          121500.0    513000.0   \n",
              "\n",
              "            AMT_ANNUITY  AMT_GOODS_PRICE  ... FLAG_DOCUMENT_18  \\\n",
              "SK_ID_CURR                                ...                    \n",
              "100002          24700.5         351000.0  ...                0   \n",
              "100003          35698.5        1129500.0  ...                0   \n",
              "100004           6750.0         135000.0  ...                0   \n",
              "100006          29686.5         297000.0  ...                0   \n",
              "100007          21865.5         513000.0  ...                0   \n",
              "\n",
              "           FLAG_DOCUMENT_19 FLAG_DOCUMENT_20 FLAG_DOCUMENT_21  \\\n",
              "SK_ID_CURR                                                      \n",
              "100002                    0                0                0   \n",
              "100003                    0                0                0   \n",
              "100004                    0                0                0   \n",
              "100006                    0                0                0   \n",
              "100007                    0                0                0   \n",
              "\n",
              "           AMT_REQ_CREDIT_BUREAU_HOUR  AMT_REQ_CREDIT_BUREAU_DAY  \\\n",
              "SK_ID_CURR                                                         \n",
              "100002                            0.0                        0.0   \n",
              "100003                            0.0                        0.0   \n",
              "100004                            0.0                        0.0   \n",
              "100006                            NaN                        NaN   \n",
              "100007                            0.0                        0.0   \n",
              "\n",
              "            AMT_REQ_CREDIT_BUREAU_WEEK  AMT_REQ_CREDIT_BUREAU_MON  \\\n",
              "SK_ID_CURR                                                          \n",
              "100002                             0.0                        0.0   \n",
              "100003                             0.0                        0.0   \n",
              "100004                             0.0                        0.0   \n",
              "100006                             NaN                        NaN   \n",
              "100007                             0.0                        0.0   \n",
              "\n",
              "            AMT_REQ_CREDIT_BUREAU_QRT  AMT_REQ_CREDIT_BUREAU_YEAR  \n",
              "SK_ID_CURR                                                         \n",
              "100002                            0.0                         1.0  \n",
              "100003                            0.0                         0.0  \n",
              "100004                            0.0                         0.0  \n",
              "100006                            NaN                         NaN  \n",
              "100007                            0.0                         0.0  \n",
              "\n",
              "[5 rows x 121 columns]"
            ]
          },
          "execution_count": 6,
          "metadata": {},
          "output_type": "execute_result"
        }
      ],
      "source": [
        "application_train.head()"
      ]
    },
    {
      "cell_type": "markdown",
      "metadata": {
        "id": "qOasCCHhbDWd"
      },
      "source": [
        "## Preprocessing"
      ]
    },
    {
      "cell_type": "code",
      "execution_count": 7,
      "metadata": {
        "id": "GTUw7XF3bDWd"
      },
      "outputs": [],
      "source": [
        "# application_train.columns"
      ]
    },
    {
      "cell_type": "code",
      "execution_count": 8,
      "metadata": {
        "id": "lLW0vBcybDWe"
      },
      "outputs": [],
      "source": [
        "# Preprocessing Menggunakan Label Encoder\n",
        "from sklearn.preprocessing import LabelEncoder\n",
        "\n",
        "le = LabelEncoder()\n",
        "application_train['NAME_CONTRACT_TYPE'] = le.fit_transform(application_train['NAME_CONTRACT_TYPE'])\n",
        "application_test['CODE_GENDER'] = le.fit_transform(application_test['CODE_GENDER'])\n",
        "application_train['FLAG_OWN_CAR'] = le.fit_transform(application_train['FLAG_OWN_CAR'])\n",
        "application_train['FLAG_OWN_REALTY'] = le.fit_transform(application_train['FLAG_OWN_REALTY'])\n",
        "\n",
        "application_test['NAME_CONTRACT_TYPE'] = le.fit_transform(application_test['NAME_CONTRACT_TYPE'])\n",
        "application_test['CODE_GENDER'] = le.fit_transform(application_test['CODE_GENDER'])\n",
        "application_test['FLAG_OWN_CAR'] = le.fit_transform(application_test['FLAG_OWN_CAR'])\n",
        "application_test['FLAG_OWN_REALTY'] = le.fit_transform(application_test['FLAG_OWN_REALTY'])\n",
        "\n"
      ]
    },
    {
      "cell_type": "code",
      "execution_count": 9,
      "metadata": {
        "colab": {
          "base_uri": "https://localhost:8080/",
          "height": 331
        },
        "id": "v_JawCqHbDWe",
        "outputId": "501c1ccf-77f5-4ec5-fa40-3dfb822b2f34"
      },
      "outputs": [
        {
          "data": {
            "text/html": [
              "<div>\n",
              "<style scoped>\n",
              "    .dataframe tbody tr th:only-of-type {\n",
              "        vertical-align: middle;\n",
              "    }\n",
              "\n",
              "    .dataframe tbody tr th {\n",
              "        vertical-align: top;\n",
              "    }\n",
              "\n",
              "    .dataframe thead th {\n",
              "        text-align: right;\n",
              "    }\n",
              "</style>\n",
              "<table border=\"1\" class=\"dataframe\">\n",
              "  <thead>\n",
              "    <tr style=\"text-align: right;\">\n",
              "      <th></th>\n",
              "      <th>TARGET</th>\n",
              "      <th>NAME_CONTRACT_TYPE</th>\n",
              "      <th>CODE_GENDER</th>\n",
              "      <th>FLAG_OWN_CAR</th>\n",
              "      <th>FLAG_OWN_REALTY</th>\n",
              "      <th>CNT_CHILDREN</th>\n",
              "      <th>AMT_INCOME_TOTAL</th>\n",
              "      <th>AMT_CREDIT</th>\n",
              "      <th>AMT_ANNUITY</th>\n",
              "      <th>AMT_GOODS_PRICE</th>\n",
              "      <th>...</th>\n",
              "      <th>FLAG_DOCUMENT_18</th>\n",
              "      <th>FLAG_DOCUMENT_19</th>\n",
              "      <th>FLAG_DOCUMENT_20</th>\n",
              "      <th>FLAG_DOCUMENT_21</th>\n",
              "      <th>AMT_REQ_CREDIT_BUREAU_HOUR</th>\n",
              "      <th>AMT_REQ_CREDIT_BUREAU_DAY</th>\n",
              "      <th>AMT_REQ_CREDIT_BUREAU_WEEK</th>\n",
              "      <th>AMT_REQ_CREDIT_BUREAU_MON</th>\n",
              "      <th>AMT_REQ_CREDIT_BUREAU_QRT</th>\n",
              "      <th>AMT_REQ_CREDIT_BUREAU_YEAR</th>\n",
              "    </tr>\n",
              "    <tr>\n",
              "      <th>SK_ID_CURR</th>\n",
              "      <th></th>\n",
              "      <th></th>\n",
              "      <th></th>\n",
              "      <th></th>\n",
              "      <th></th>\n",
              "      <th></th>\n",
              "      <th></th>\n",
              "      <th></th>\n",
              "      <th></th>\n",
              "      <th></th>\n",
              "      <th></th>\n",
              "      <th></th>\n",
              "      <th></th>\n",
              "      <th></th>\n",
              "      <th></th>\n",
              "      <th></th>\n",
              "      <th></th>\n",
              "      <th></th>\n",
              "      <th></th>\n",
              "      <th></th>\n",
              "      <th></th>\n",
              "    </tr>\n",
              "  </thead>\n",
              "  <tbody>\n",
              "    <tr>\n",
              "      <th>100002</th>\n",
              "      <td>1</td>\n",
              "      <td>0</td>\n",
              "      <td>M</td>\n",
              "      <td>0</td>\n",
              "      <td>1</td>\n",
              "      <td>0</td>\n",
              "      <td>202500.0</td>\n",
              "      <td>406597.5</td>\n",
              "      <td>24700.5</td>\n",
              "      <td>351000.0</td>\n",
              "      <td>...</td>\n",
              "      <td>0</td>\n",
              "      <td>0</td>\n",
              "      <td>0</td>\n",
              "      <td>0</td>\n",
              "      <td>0.0</td>\n",
              "      <td>0.0</td>\n",
              "      <td>0.0</td>\n",
              "      <td>0.0</td>\n",
              "      <td>0.0</td>\n",
              "      <td>1.0</td>\n",
              "    </tr>\n",
              "    <tr>\n",
              "      <th>100003</th>\n",
              "      <td>0</td>\n",
              "      <td>0</td>\n",
              "      <td>F</td>\n",
              "      <td>0</td>\n",
              "      <td>0</td>\n",
              "      <td>0</td>\n",
              "      <td>270000.0</td>\n",
              "      <td>1293502.5</td>\n",
              "      <td>35698.5</td>\n",
              "      <td>1129500.0</td>\n",
              "      <td>...</td>\n",
              "      <td>0</td>\n",
              "      <td>0</td>\n",
              "      <td>0</td>\n",
              "      <td>0</td>\n",
              "      <td>0.0</td>\n",
              "      <td>0.0</td>\n",
              "      <td>0.0</td>\n",
              "      <td>0.0</td>\n",
              "      <td>0.0</td>\n",
              "      <td>0.0</td>\n",
              "    </tr>\n",
              "    <tr>\n",
              "      <th>100004</th>\n",
              "      <td>0</td>\n",
              "      <td>1</td>\n",
              "      <td>M</td>\n",
              "      <td>1</td>\n",
              "      <td>1</td>\n",
              "      <td>0</td>\n",
              "      <td>67500.0</td>\n",
              "      <td>135000.0</td>\n",
              "      <td>6750.0</td>\n",
              "      <td>135000.0</td>\n",
              "      <td>...</td>\n",
              "      <td>0</td>\n",
              "      <td>0</td>\n",
              "      <td>0</td>\n",
              "      <td>0</td>\n",
              "      <td>0.0</td>\n",
              "      <td>0.0</td>\n",
              "      <td>0.0</td>\n",
              "      <td>0.0</td>\n",
              "      <td>0.0</td>\n",
              "      <td>0.0</td>\n",
              "    </tr>\n",
              "    <tr>\n",
              "      <th>100006</th>\n",
              "      <td>0</td>\n",
              "      <td>0</td>\n",
              "      <td>F</td>\n",
              "      <td>0</td>\n",
              "      <td>1</td>\n",
              "      <td>0</td>\n",
              "      <td>135000.0</td>\n",
              "      <td>312682.5</td>\n",
              "      <td>29686.5</td>\n",
              "      <td>297000.0</td>\n",
              "      <td>...</td>\n",
              "      <td>0</td>\n",
              "      <td>0</td>\n",
              "      <td>0</td>\n",
              "      <td>0</td>\n",
              "      <td>NaN</td>\n",
              "      <td>NaN</td>\n",
              "      <td>NaN</td>\n",
              "      <td>NaN</td>\n",
              "      <td>NaN</td>\n",
              "      <td>NaN</td>\n",
              "    </tr>\n",
              "    <tr>\n",
              "      <th>100007</th>\n",
              "      <td>0</td>\n",
              "      <td>0</td>\n",
              "      <td>M</td>\n",
              "      <td>0</td>\n",
              "      <td>1</td>\n",
              "      <td>0</td>\n",
              "      <td>121500.0</td>\n",
              "      <td>513000.0</td>\n",
              "      <td>21865.5</td>\n",
              "      <td>513000.0</td>\n",
              "      <td>...</td>\n",
              "      <td>0</td>\n",
              "      <td>0</td>\n",
              "      <td>0</td>\n",
              "      <td>0</td>\n",
              "      <td>0.0</td>\n",
              "      <td>0.0</td>\n",
              "      <td>0.0</td>\n",
              "      <td>0.0</td>\n",
              "      <td>0.0</td>\n",
              "      <td>0.0</td>\n",
              "    </tr>\n",
              "  </tbody>\n",
              "</table>\n",
              "<p>5 rows × 121 columns</p>\n",
              "</div>"
            ],
            "text/plain": [
              "            TARGET  NAME_CONTRACT_TYPE CODE_GENDER  FLAG_OWN_CAR  \\\n",
              "SK_ID_CURR                                                         \n",
              "100002           1                   0           M             0   \n",
              "100003           0                   0           F             0   \n",
              "100004           0                   1           M             1   \n",
              "100006           0                   0           F             0   \n",
              "100007           0                   0           M             0   \n",
              "\n",
              "            FLAG_OWN_REALTY  CNT_CHILDREN  AMT_INCOME_TOTAL  AMT_CREDIT  \\\n",
              "SK_ID_CURR                                                                \n",
              "100002                    1             0          202500.0    406597.5   \n",
              "100003                    0             0          270000.0   1293502.5   \n",
              "100004                    1             0           67500.0    135000.0   \n",
              "100006                    1             0          135000.0    312682.5   \n",
              "100007                    1             0          121500.0    513000.0   \n",
              "\n",
              "            AMT_ANNUITY  AMT_GOODS_PRICE  ... FLAG_DOCUMENT_18  \\\n",
              "SK_ID_CURR                                ...                    \n",
              "100002          24700.5         351000.0  ...                0   \n",
              "100003          35698.5        1129500.0  ...                0   \n",
              "100004           6750.0         135000.0  ...                0   \n",
              "100006          29686.5         297000.0  ...                0   \n",
              "100007          21865.5         513000.0  ...                0   \n",
              "\n",
              "           FLAG_DOCUMENT_19 FLAG_DOCUMENT_20 FLAG_DOCUMENT_21  \\\n",
              "SK_ID_CURR                                                      \n",
              "100002                    0                0                0   \n",
              "100003                    0                0                0   \n",
              "100004                    0                0                0   \n",
              "100006                    0                0                0   \n",
              "100007                    0                0                0   \n",
              "\n",
              "           AMT_REQ_CREDIT_BUREAU_HOUR  AMT_REQ_CREDIT_BUREAU_DAY  \\\n",
              "SK_ID_CURR                                                         \n",
              "100002                            0.0                        0.0   \n",
              "100003                            0.0                        0.0   \n",
              "100004                            0.0                        0.0   \n",
              "100006                            NaN                        NaN   \n",
              "100007                            0.0                        0.0   \n",
              "\n",
              "            AMT_REQ_CREDIT_BUREAU_WEEK  AMT_REQ_CREDIT_BUREAU_MON  \\\n",
              "SK_ID_CURR                                                          \n",
              "100002                             0.0                        0.0   \n",
              "100003                             0.0                        0.0   \n",
              "100004                             0.0                        0.0   \n",
              "100006                             NaN                        NaN   \n",
              "100007                             0.0                        0.0   \n",
              "\n",
              "            AMT_REQ_CREDIT_BUREAU_QRT  AMT_REQ_CREDIT_BUREAU_YEAR  \n",
              "SK_ID_CURR                                                         \n",
              "100002                            0.0                         1.0  \n",
              "100003                            0.0                         0.0  \n",
              "100004                            0.0                         0.0  \n",
              "100006                            NaN                         NaN  \n",
              "100007                            0.0                         0.0  \n",
              "\n",
              "[5 rows x 121 columns]"
            ]
          },
          "execution_count": 9,
          "metadata": {},
          "output_type": "execute_result"
        }
      ],
      "source": [
        "application_train.head()"
      ]
    },
    {
      "cell_type": "code",
      "execution_count": 10,
      "metadata": {
        "id": "--ptvwz4bDWf"
      },
      "outputs": [],
      "source": [
        "# Menggunakan get dummies\n",
        "application_train = pd.get_dummies(application_train)\n",
        "application_test = pd.get_dummies(application_test)"
      ]
    },
    {
      "cell_type": "code",
      "execution_count": 11,
      "metadata": {
        "colab": {
          "base_uri": "https://localhost:8080/",
          "height": 348
        },
        "id": "ljEXXP3tbDWf",
        "outputId": "332ca5c6-a275-4834-bdd8-950b709ad06f"
      },
      "outputs": [
        {
          "data": {
            "text/html": [
              "<div>\n",
              "<style scoped>\n",
              "    .dataframe tbody tr th:only-of-type {\n",
              "        vertical-align: middle;\n",
              "    }\n",
              "\n",
              "    .dataframe tbody tr th {\n",
              "        vertical-align: top;\n",
              "    }\n",
              "\n",
              "    .dataframe thead th {\n",
              "        text-align: right;\n",
              "    }\n",
              "</style>\n",
              "<table border=\"1\" class=\"dataframe\">\n",
              "  <thead>\n",
              "    <tr style=\"text-align: right;\">\n",
              "      <th></th>\n",
              "      <th>TARGET</th>\n",
              "      <th>NAME_CONTRACT_TYPE</th>\n",
              "      <th>FLAG_OWN_CAR</th>\n",
              "      <th>FLAG_OWN_REALTY</th>\n",
              "      <th>CNT_CHILDREN</th>\n",
              "      <th>AMT_INCOME_TOTAL</th>\n",
              "      <th>AMT_CREDIT</th>\n",
              "      <th>AMT_ANNUITY</th>\n",
              "      <th>AMT_GOODS_PRICE</th>\n",
              "      <th>REGION_POPULATION_RELATIVE</th>\n",
              "      <th>...</th>\n",
              "      <th>HOUSETYPE_MODE_terraced house</th>\n",
              "      <th>WALLSMATERIAL_MODE_Block</th>\n",
              "      <th>WALLSMATERIAL_MODE_Mixed</th>\n",
              "      <th>WALLSMATERIAL_MODE_Monolithic</th>\n",
              "      <th>WALLSMATERIAL_MODE_Others</th>\n",
              "      <th>WALLSMATERIAL_MODE_Panel</th>\n",
              "      <th>WALLSMATERIAL_MODE_Stone, brick</th>\n",
              "      <th>WALLSMATERIAL_MODE_Wooden</th>\n",
              "      <th>EMERGENCYSTATE_MODE_No</th>\n",
              "      <th>EMERGENCYSTATE_MODE_Yes</th>\n",
              "    </tr>\n",
              "    <tr>\n",
              "      <th>SK_ID_CURR</th>\n",
              "      <th></th>\n",
              "      <th></th>\n",
              "      <th></th>\n",
              "      <th></th>\n",
              "      <th></th>\n",
              "      <th></th>\n",
              "      <th></th>\n",
              "      <th></th>\n",
              "      <th></th>\n",
              "      <th></th>\n",
              "      <th></th>\n",
              "      <th></th>\n",
              "      <th></th>\n",
              "      <th></th>\n",
              "      <th></th>\n",
              "      <th></th>\n",
              "      <th></th>\n",
              "      <th></th>\n",
              "      <th></th>\n",
              "      <th></th>\n",
              "      <th></th>\n",
              "    </tr>\n",
              "  </thead>\n",
              "  <tbody>\n",
              "    <tr>\n",
              "      <th>100002</th>\n",
              "      <td>1</td>\n",
              "      <td>0</td>\n",
              "      <td>0</td>\n",
              "      <td>1</td>\n",
              "      <td>0</td>\n",
              "      <td>202500.0</td>\n",
              "      <td>406597.5</td>\n",
              "      <td>24700.5</td>\n",
              "      <td>351000.0</td>\n",
              "      <td>0.018801</td>\n",
              "      <td>...</td>\n",
              "      <td>0</td>\n",
              "      <td>0</td>\n",
              "      <td>0</td>\n",
              "      <td>0</td>\n",
              "      <td>0</td>\n",
              "      <td>0</td>\n",
              "      <td>1</td>\n",
              "      <td>0</td>\n",
              "      <td>1</td>\n",
              "      <td>0</td>\n",
              "    </tr>\n",
              "    <tr>\n",
              "      <th>100003</th>\n",
              "      <td>0</td>\n",
              "      <td>0</td>\n",
              "      <td>0</td>\n",
              "      <td>0</td>\n",
              "      <td>0</td>\n",
              "      <td>270000.0</td>\n",
              "      <td>1293502.5</td>\n",
              "      <td>35698.5</td>\n",
              "      <td>1129500.0</td>\n",
              "      <td>0.003541</td>\n",
              "      <td>...</td>\n",
              "      <td>0</td>\n",
              "      <td>1</td>\n",
              "      <td>0</td>\n",
              "      <td>0</td>\n",
              "      <td>0</td>\n",
              "      <td>0</td>\n",
              "      <td>0</td>\n",
              "      <td>0</td>\n",
              "      <td>1</td>\n",
              "      <td>0</td>\n",
              "    </tr>\n",
              "    <tr>\n",
              "      <th>100004</th>\n",
              "      <td>0</td>\n",
              "      <td>1</td>\n",
              "      <td>1</td>\n",
              "      <td>1</td>\n",
              "      <td>0</td>\n",
              "      <td>67500.0</td>\n",
              "      <td>135000.0</td>\n",
              "      <td>6750.0</td>\n",
              "      <td>135000.0</td>\n",
              "      <td>0.010032</td>\n",
              "      <td>...</td>\n",
              "      <td>0</td>\n",
              "      <td>0</td>\n",
              "      <td>0</td>\n",
              "      <td>0</td>\n",
              "      <td>0</td>\n",
              "      <td>0</td>\n",
              "      <td>0</td>\n",
              "      <td>0</td>\n",
              "      <td>0</td>\n",
              "      <td>0</td>\n",
              "    </tr>\n",
              "    <tr>\n",
              "      <th>100006</th>\n",
              "      <td>0</td>\n",
              "      <td>0</td>\n",
              "      <td>0</td>\n",
              "      <td>1</td>\n",
              "      <td>0</td>\n",
              "      <td>135000.0</td>\n",
              "      <td>312682.5</td>\n",
              "      <td>29686.5</td>\n",
              "      <td>297000.0</td>\n",
              "      <td>0.008019</td>\n",
              "      <td>...</td>\n",
              "      <td>0</td>\n",
              "      <td>0</td>\n",
              "      <td>0</td>\n",
              "      <td>0</td>\n",
              "      <td>0</td>\n",
              "      <td>0</td>\n",
              "      <td>0</td>\n",
              "      <td>0</td>\n",
              "      <td>0</td>\n",
              "      <td>0</td>\n",
              "    </tr>\n",
              "    <tr>\n",
              "      <th>100007</th>\n",
              "      <td>0</td>\n",
              "      <td>0</td>\n",
              "      <td>0</td>\n",
              "      <td>1</td>\n",
              "      <td>0</td>\n",
              "      <td>121500.0</td>\n",
              "      <td>513000.0</td>\n",
              "      <td>21865.5</td>\n",
              "      <td>513000.0</td>\n",
              "      <td>0.028663</td>\n",
              "      <td>...</td>\n",
              "      <td>0</td>\n",
              "      <td>0</td>\n",
              "      <td>0</td>\n",
              "      <td>0</td>\n",
              "      <td>0</td>\n",
              "      <td>0</td>\n",
              "      <td>0</td>\n",
              "      <td>0</td>\n",
              "      <td>0</td>\n",
              "      <td>0</td>\n",
              "    </tr>\n",
              "  </tbody>\n",
              "</table>\n",
              "<p>5 rows × 242 columns</p>\n",
              "</div>"
            ],
            "text/plain": [
              "            TARGET  NAME_CONTRACT_TYPE  FLAG_OWN_CAR  FLAG_OWN_REALTY  \\\n",
              "SK_ID_CURR                                                              \n",
              "100002           1                   0             0                1   \n",
              "100003           0                   0             0                0   \n",
              "100004           0                   1             1                1   \n",
              "100006           0                   0             0                1   \n",
              "100007           0                   0             0                1   \n",
              "\n",
              "            CNT_CHILDREN  AMT_INCOME_TOTAL  AMT_CREDIT  AMT_ANNUITY  \\\n",
              "SK_ID_CURR                                                            \n",
              "100002                 0          202500.0    406597.5      24700.5   \n",
              "100003                 0          270000.0   1293502.5      35698.5   \n",
              "100004                 0           67500.0    135000.0       6750.0   \n",
              "100006                 0          135000.0    312682.5      29686.5   \n",
              "100007                 0          121500.0    513000.0      21865.5   \n",
              "\n",
              "            AMT_GOODS_PRICE  REGION_POPULATION_RELATIVE  ...  \\\n",
              "SK_ID_CURR                                               ...   \n",
              "100002             351000.0                    0.018801  ...   \n",
              "100003            1129500.0                    0.003541  ...   \n",
              "100004             135000.0                    0.010032  ...   \n",
              "100006             297000.0                    0.008019  ...   \n",
              "100007             513000.0                    0.028663  ...   \n",
              "\n",
              "            HOUSETYPE_MODE_terraced house  WALLSMATERIAL_MODE_Block  \\\n",
              "SK_ID_CURR                                                            \n",
              "100002                                  0                         0   \n",
              "100003                                  0                         1   \n",
              "100004                                  0                         0   \n",
              "100006                                  0                         0   \n",
              "100007                                  0                         0   \n",
              "\n",
              "            WALLSMATERIAL_MODE_Mixed  WALLSMATERIAL_MODE_Monolithic  \\\n",
              "SK_ID_CURR                                                            \n",
              "100002                             0                              0   \n",
              "100003                             0                              0   \n",
              "100004                             0                              0   \n",
              "100006                             0                              0   \n",
              "100007                             0                              0   \n",
              "\n",
              "            WALLSMATERIAL_MODE_Others  WALLSMATERIAL_MODE_Panel  \\\n",
              "SK_ID_CURR                                                        \n",
              "100002                              0                         0   \n",
              "100003                              0                         0   \n",
              "100004                              0                         0   \n",
              "100006                              0                         0   \n",
              "100007                              0                         0   \n",
              "\n",
              "            WALLSMATERIAL_MODE_Stone, brick  WALLSMATERIAL_MODE_Wooden  \\\n",
              "SK_ID_CURR                                                               \n",
              "100002                                    1                          0   \n",
              "100003                                    0                          0   \n",
              "100004                                    0                          0   \n",
              "100006                                    0                          0   \n",
              "100007                                    0                          0   \n",
              "\n",
              "            EMERGENCYSTATE_MODE_No  EMERGENCYSTATE_MODE_Yes  \n",
              "SK_ID_CURR                                                   \n",
              "100002                           1                        0  \n",
              "100003                           1                        0  \n",
              "100004                           0                        0  \n",
              "100006                           0                        0  \n",
              "100007                           0                        0  \n",
              "\n",
              "[5 rows x 242 columns]"
            ]
          },
          "execution_count": 11,
          "metadata": {},
          "output_type": "execute_result"
        }
      ],
      "source": [
        "application_train.head()"
      ]
    },
    {
      "cell_type": "code",
      "execution_count": 12,
      "metadata": {
        "colab": {
          "base_uri": "https://localhost:8080/"
        },
        "id": "LAbMvHv1bDWf",
        "outputId": "01a43469-04b9-403f-f94d-8634aeaa46bf"
      },
      "outputs": [
        {
          "data": {
            "text/plain": [
              "{'CODE_GENDER_F',\n",
              " 'CODE_GENDER_M',\n",
              " 'CODE_GENDER_XNA',\n",
              " 'NAME_FAMILY_STATUS_Unknown',\n",
              " 'NAME_INCOME_TYPE_Maternity leave',\n",
              " 'TARGET'}"
            ]
          },
          "execution_count": 12,
          "metadata": {},
          "output_type": "execute_result"
        }
      ],
      "source": [
        "#Melihat perbedaan kolom antara application train dan application test\n",
        "col_train = set(application_train.columns)\n",
        "col_test = set(application_test.columns)\n",
        "\n",
        "exc_col = col_train-col_test\n",
        "exc_col"
      ]
    },
    {
      "cell_type": "code",
      "execution_count": 13,
      "metadata": {
        "id": "JQsgh4QHbDWf"
      },
      "outputs": [],
      "source": [
        "# Memisah Target dan meng-align data dari application_train, application_test\n",
        "train_target_labels = application_train['TARGET']\n",
        "application_train_align,application_test_align = application_train.align(application_test,join='inner',axis=1)\n",
        "application_train_align['TARGET'] = train_target_labels"
      ]
    },
    {
      "cell_type": "code",
      "execution_count": 14,
      "metadata": {
        "colab": {
          "base_uri": "https://localhost:8080/"
        },
        "id": "cIOs1ABgbDWg",
        "outputId": "34e6ed11-48df-439d-b3bc-e9ec1fb07019"
      },
      "outputs": [
        {
          "name": "stdout",
          "output_type": "stream",
          "text": [
            "(307511, 242)\n",
            "(48744, 237)\n",
            "(307511, 237)\n",
            "(48744, 236)\n"
          ]
        }
      ],
      "source": [
        "print(application_train.shape)\n",
        "print(application_test.shape)\n",
        "print(application_train_align.shape)\n",
        "print(application_test_align.shape)"
      ]
    },
    {
      "cell_type": "code",
      "execution_count": 15,
      "metadata": {
        "colab": {
          "base_uri": "https://localhost:8080/"
        },
        "id": "cvU1yozrbDWg",
        "outputId": "fb104c1a-8bfa-4ac5-e5e4-0bf67da53f34"
      },
      "outputs": [
        {
          "data": {
            "text/plain": [
              "SK_ID_CURR\n",
              "100002    1\n",
              "100003    0\n",
              "100004    0\n",
              "100006    0\n",
              "100007    0\n",
              "         ..\n",
              "456251    0\n",
              "456252    0\n",
              "456253    0\n",
              "456254    1\n",
              "456255    0\n",
              "Name: TARGET, Length: 307511, dtype: int64"
            ]
          },
          "execution_count": 15,
          "metadata": {},
          "output_type": "execute_result"
        }
      ],
      "source": [
        "train_labels = application_train_align.pop('TARGET')\n",
        "feat_names = list(application_train_align.columns)\n",
        "# feat_names\n",
        "train_labels"
      ]
    },
    {
      "cell_type": "code",
      "execution_count": 16,
      "metadata": {
        "id": "Pm3sjqzYbDWg"
      },
      "outputs": [],
      "source": [
        "#menggunakan simpleimpute untuk menangani missing value\n",
        "import numpy as np\n",
        "from sklearn.impute import SimpleImputer\n",
        "imputer = SimpleImputer(missing_values=np.nan,strategy='median')# menggunakan median\n",
        "\n",
        "#dan menggunakan MinMaxScaler untuk menormalisasi data\n",
        "from sklearn.preprocessing import MinMaxScaler\n",
        "scaler = MinMaxScaler(feature_range= (0,1))"
      ]
    },
    {
      "cell_type": "code",
      "execution_count": 17,
      "metadata": {
        "id": "e4xtFSD9bDWg"
      },
      "outputs": [],
      "source": [
        "train = application_train_align.copy()\n",
        "test = application_test_align.copy()"
      ]
    },
    {
      "cell_type": "code",
      "execution_count": 18,
      "metadata": {
        "id": "YZLMm26JbDWh"
      },
      "outputs": [],
      "source": [
        "#penerapan  imputer & scaler\n",
        "imputer.fit(train)\n",
        "train = imputer.transform(train)\n",
        "test = imputer.transform(application_test_align)\n",
        "\n",
        "scaler.fit(train)\n",
        "train= scaler.transform(train)\n",
        "test= scaler.transform(test)"
      ]
    },
    {
      "cell_type": "code",
      "execution_count": null,
      "metadata": {
        "id": "H84YgBTKbDWh"
      },
      "outputs": [],
      "source": []
    },
    {
      "cell_type": "markdown",
      "metadata": {
        "id": "FRyx4VHobDWh"
      },
      "source": [
        "## Modeling Using Random Forest"
      ]
    },
    {
      "cell_type": "code",
      "execution_count": 19,
      "metadata": {
        "id": "aZQKij0ebDWh"
      },
      "outputs": [],
      "source": [
        "# Modeling Random Forest dengan n_estimators 50 , random state 10, verbose 1 dan max_features 100\n",
        "from sklearn.ensemble import RandomForestClassifier\n",
        "rf = RandomForestClassifier(n_estimators=50,random_state=10,verbose=1,n_jobs=-1,max_features=100)"
      ]
    },
    {
      "cell_type": "code",
      "execution_count": 20,
      "metadata": {
        "colab": {
          "base_uri": "https://localhost:8080/"
        },
        "id": "93BcYDdBbDWi",
        "outputId": "4b54cc3f-52ff-4a78-eda1-50c237c0ad61"
      },
      "outputs": [
        {
          "name": "stderr",
          "output_type": "stream",
          "text": [
            "[Parallel(n_jobs=-1)]: Using backend ThreadingBackend with 12 concurrent workers.\n",
            "[Parallel(n_jobs=-1)]: Done  26 tasks      | elapsed:  1.2min\n",
            "[Parallel(n_jobs=-1)]: Done  50 out of  50 | elapsed:  1.9min finished\n"
          ]
        },
        {
          "data": {
            "text/plain": [
              "RandomForestClassifier(max_features=100, n_estimators=50, n_jobs=-1,\n",
              "                       random_state=10, verbose=1)"
            ]
          },
          "execution_count": 20,
          "metadata": {},
          "output_type": "execute_result"
        }
      ],
      "source": [
        "#Train data\n",
        "rf.fit(train,train_labels)"
      ]
    },
    {
      "cell_type": "code",
      "execution_count": 21,
      "metadata": {
        "id": "8esuF3llbDWi"
      },
      "outputs": [],
      "source": [
        "# y_train"
      ]
    },
    {
      "cell_type": "code",
      "execution_count": 22,
      "metadata": {
        "id": "3Zh8qI5ibDWi"
      },
      "outputs": [],
      "source": [
        "# Membuat fungsi untuk menampilkan top 10 features dan bad feature\n",
        "def plot_feat_importance(df,numFeat=10):\n",
        "\n",
        "    df = df.sort_values('Importance',ascending=False).reset_index()\n",
        "    top_feat = df.head(numFeat)\n",
        "    bottom_feat = df.tail(numFeat)\n",
        "\n",
        "    fig,axes = plt.subplots(1,2,figsize=(15,10))\n",
        "    ax0 = sns.barplot(x='Feature',y='Importance',data=top_feat, ax=axes[0])\n",
        "    ax0.set_title('Top {} features'.format(numFeat))\n",
        "    for item in ax0.get_xticklabels():\n",
        "        item.set_rotation(90)\n",
        "    ax1 = sns.barplot(x='Feature',y='Importance',data=bottom_feat, ax=axes[1])\n",
        "    for item in ax1.get_xticklabels():\n",
        "        item.set_rotation(90)\n",
        "    ax1.set_title('Bottom {} features'.format(numFeat))\n",
        "\n",
        "    return"
      ]
    },
    {
      "cell_type": "code",
      "execution_count": 23,
      "metadata": {
        "colab": {
          "base_uri": "https://localhost:8080/",
          "height": 801
        },
        "id": "UyIxDIpVbDWi",
        "outputId": "6625877f-71a4-497a-9bfc-da77335d0962"
      },
      "outputs": [
        {
          "data": {
            "image/png": "[encoded data removed]",
            "text/plain": [
              "<Figure size 1500x1000 with 2 Axes>"
            ]
          },
          "metadata": {},
          "output_type": "display_data"
        }
      ],
      "source": [
        "# Mencari feature importance\n",
        "# membuat dataframe dan menampilkan gambar\n",
        "yangpenting = rf.feature_importances_\n",
        "important_feature=pd.DataFrame({'Feature':feat_names,'Importance': yangpenting})\n",
        "plot_feat_importance(important_feature)\n",
        "plt.show()"
      ]
    },
    {
      "cell_type": "code",
      "execution_count": 24,
      "metadata": {
        "colab": {
          "base_uri": "https://localhost:8080/"
        },
        "id": "KEVelhVmbDWi",
        "outputId": "423e2cec-961f-4e6b-9a7c-60c2754a9d42"
      },
      "outputs": [
        {
          "name": "stderr",
          "output_type": "stream",
          "text": [
            "[Parallel(n_jobs=12)]: Using backend ThreadingBackend with 12 concurrent workers.\n",
            "[Parallel(n_jobs=12)]: Done  26 tasks      | elapsed:    0.0s\n",
            "[Parallel(n_jobs=12)]: Done  50 out of  50 | elapsed:    0.1s finished\n"
          ]
        }
      ],
      "source": [
        "# Prediksi dengan probabilitas \n",
        "rf_pred = rf.predict_proba(test)[:,1]"
      ]
    },
    {
      "cell_type": "code",
      "execution_count": 25,
      "metadata": {
        "colab": {
          "base_uri": "https://localhost:8080/"
        },
        "id": "ToTk2bp6bDWi",
        "outputId": "0709628b-2451-456d-828e-106de1e2eed2"
      },
      "outputs": [
        {
          "name": "stdout",
          "output_type": "stream",
          "text": [
            "   SK_ID_CURR  TARGET\n",
            "0      100001    0.02\n",
            "1      100005    0.04\n",
            "2      100013    0.02\n",
            "3      100028    0.08\n",
            "4      100038    0.18\n",
            "(48744, 2)\n"
          ]
        }
      ],
      "source": [
        "# Hasil akhir akhir\n",
        "submit = pd.DataFrame()\n",
        "submit['SK_ID_CURR'] = application_test_align.index\n",
        "submit['TARGET'] = rf_pred\n",
        "print(submit.head())\n",
        "print(submit.shape)"
      ]
    },
    {
      "cell_type": "markdown",
      "metadata": {
        "id": "a9XmreOQbDWj"
      },
      "source": [
        "### EVALUATION"
      ]
    },
    {
      "cell_type": "markdown",
      "metadata": {
        "id": "-G8829wHbDWj"
      },
      "source": [
        "Data Evaluation Mengguanakan"
      ]
    },
    {
      "cell_type": "code",
      "execution_count": 26,
      "metadata": {
        "colab": {
          "base_uri": "https://localhost:8080/"
        },
        "id": "vLU-v0AbbDWj",
        "outputId": "c19e8d39-de5b-48b6-99a7-e411b946039a"
      },
      "outputs": [
        {
          "data": {
            "text/plain": [
              "0.0    39928\n",
              "1.0       72\n",
              "dtype: int64"
            ]
          },
          "execution_count": 26,
          "metadata": {},
          "output_type": "execute_result"
        }
      ],
      "source": [
        "# Membuat dataframe prediksi kita dan menyeleksi 40.000 baris\n",
        "rf_pred = pd.DataFrame(rf_pred)\n",
        "rf_pred = rf_pred.head(40000)\n",
        "rf_pred = round(rf_pred)\n",
        "rf_pred.value_counts()"
      ]
    },
    {
      "cell_type": "code",
      "execution_count": 27,
      "metadata": {
        "colab": {
          "base_uri": "https://localhost:8080/"
        },
        "id": "3ivGBRasbDWj",
        "outputId": "eca4c304-9b38-424b-9703-8d96bed3d3a2"
      },
      "outputs": [
        {
          "data": {
            "text/plain": [
              "(5, 1)"
            ]
          },
          "execution_count": 27,
          "metadata": {},
          "output_type": "execute_result"
        }
      ],
      "source": [
        "# membuat data frame train_target_label\n",
        "train_target_labels = pd.DataFrame(train_target_labels)\n",
        "train_target_labels=train_target_labels.reset_index() # Menghilangkan index\n",
        "train_target_labels = train_target_labels.drop(columns='SK_ID_CURR',axis=1) # Drop column sk_id_cur\n",
        "train_target_labels.head().shape"
      ]
    },
    {
      "cell_type": "code",
      "execution_count": 28,
      "metadata": {
        "colab": {
          "base_uri": "https://localhost:8080/",
          "height": 206
        },
        "id": "CmMSHRyXbDWj",
        "outputId": "7fa5ff26-c246-4911-f813-d4649d5ad2c6"
      },
      "outputs": [
        {
          "data": {
            "text/html": [
              "<div>\n",
              "<style scoped>\n",
              "    .dataframe tbody tr th:only-of-type {\n",
              "        vertical-align: middle;\n",
              "    }\n",
              "\n",
              "    .dataframe tbody tr th {\n",
              "        vertical-align: top;\n",
              "    }\n",
              "\n",
              "    .dataframe thead th {\n",
              "        text-align: right;\n",
              "    }\n",
              "</style>\n",
              "<table border=\"1\" class=\"dataframe\">\n",
              "  <thead>\n",
              "    <tr style=\"text-align: right;\">\n",
              "      <th></th>\n",
              "      <th>TARGET</th>\n",
              "    </tr>\n",
              "  </thead>\n",
              "  <tbody>\n",
              "    <tr>\n",
              "      <th>0</th>\n",
              "      <td>1</td>\n",
              "    </tr>\n",
              "    <tr>\n",
              "      <th>1</th>\n",
              "      <td>0</td>\n",
              "    </tr>\n",
              "    <tr>\n",
              "      <th>2</th>\n",
              "      <td>0</td>\n",
              "    </tr>\n",
              "    <tr>\n",
              "      <th>3</th>\n",
              "      <td>0</td>\n",
              "    </tr>\n",
              "    <tr>\n",
              "      <th>4</th>\n",
              "      <td>0</td>\n",
              "    </tr>\n",
              "  </tbody>\n",
              "</table>\n",
              "</div>"
            ],
            "text/plain": [
              "   TARGET\n",
              "0       1\n",
              "1       0\n",
              "2       0\n",
              "3       0\n",
              "4       0"
            ]
          },
          "execution_count": 28,
          "metadata": {},
          "output_type": "execute_result"
        }
      ],
      "source": [
        "train_target_labels.head()"
      ]
    },
    {
      "cell_type": "code",
      "execution_count": 29,
      "metadata": {
        "id": "0Z8xzDvtbDWj"
      },
      "outputs": [],
      "source": [
        "#Drop columns dan seleksi 40.000 baris\n",
        "# train_target_labels = train_target_labels.drop(columns=['level_0','index'],axis=1) # Drop column level_0, index\n",
        "train_target_labels = train_target_labels.head(40000)"
      ]
    },
    {
      "cell_type": "code",
      "execution_count": 30,
      "metadata": {
        "colab": {
          "base_uri": "https://localhost:8080/"
        },
        "id": "73tQLw7ZbDWj",
        "outputId": "98317a8b-bdb7-4f73-dd63-d390ff06515b"
      },
      "outputs": [
        {
          "data": {
            "text/plain": [
              "TARGET\n",
              "0         36769\n",
              "1          3231\n",
              "dtype: int64"
            ]
          },
          "execution_count": 30,
          "metadata": {},
          "output_type": "execute_result"
        }
      ],
      "source": [
        "train_target_labels.value_counts()"
      ]
    },
    {
      "cell_type": "code",
      "execution_count": 31,
      "metadata": {
        "colab": {
          "base_uri": "https://localhost:8080/",
          "height": 206
        },
        "id": "4ctCM4RRbDWk",
        "outputId": "316ed3db-f028-474c-d758-4573fb6c0b47"
      },
      "outputs": [
        {
          "data": {
            "text/html": [
              "<div>\n",
              "<style scoped>\n",
              "    .dataframe tbody tr th:only-of-type {\n",
              "        vertical-align: middle;\n",
              "    }\n",
              "\n",
              "    .dataframe tbody tr th {\n",
              "        vertical-align: top;\n",
              "    }\n",
              "\n",
              "    .dataframe thead th {\n",
              "        text-align: right;\n",
              "    }\n",
              "</style>\n",
              "<table border=\"1\" class=\"dataframe\">\n",
              "  <thead>\n",
              "    <tr style=\"text-align: right;\">\n",
              "      <th></th>\n",
              "      <th>0</th>\n",
              "    </tr>\n",
              "  </thead>\n",
              "  <tbody>\n",
              "    <tr>\n",
              "      <th>0</th>\n",
              "      <td>0.0</td>\n",
              "    </tr>\n",
              "    <tr>\n",
              "      <th>1</th>\n",
              "      <td>0.0</td>\n",
              "    </tr>\n",
              "    <tr>\n",
              "      <th>2</th>\n",
              "      <td>0.0</td>\n",
              "    </tr>\n",
              "    <tr>\n",
              "      <th>3</th>\n",
              "      <td>0.0</td>\n",
              "    </tr>\n",
              "    <tr>\n",
              "      <th>4</th>\n",
              "      <td>0.0</td>\n",
              "    </tr>\n",
              "  </tbody>\n",
              "</table>\n",
              "</div>"
            ],
            "text/plain": [
              "     0\n",
              "0  0.0\n",
              "1  0.0\n",
              "2  0.0\n",
              "3  0.0\n",
              "4  0.0"
            ]
          },
          "execution_count": 31,
          "metadata": {},
          "output_type": "execute_result"
        }
      ],
      "source": [
        "rf_pred.head()"
      ]
    },
    {
      "cell_type": "code",
      "execution_count": 32,
      "metadata": {
        "colab": {
          "base_uri": "https://localhost:8080/"
        },
        "id": "UQGvLUqubDWk",
        "outputId": "af52b43a-403f-4015-c59b-4e802807759f"
      },
      "outputs": [
        {
          "name": "stdout",
          "output_type": "stream",
          "text": [
            "                   Evaluation Score                \n",
            "---------------------------------------------------\n",
            "Score Akurasi : 0.917675\n",
            "Nilai Confusion Matrix : [[36702    67]\n",
            " [ 3226     5]]\n",
            "Classification Report :              precision    recall  f1-score   support\n",
            "\n",
            "           0       0.92      1.00      0.96     36769\n",
            "           1       0.07      0.00      0.00      3231\n",
            "\n",
            "    accuracy                           0.92     40000\n",
            "   macro avg       0.49      0.50      0.48     40000\n",
            "weighted avg       0.85      0.92      0.88     40000\n",
            ")\n"
          ]
        }
      ],
      "source": [
        "# Evaluation Using accuracy score ,\n",
        "from sklearn import metrics as m\n",
        "print('                   Evaluation Score                ')\n",
        "print('---------------------------------------------------')\n",
        "print(f'Score Akurasi : {m.accuracy_score(train_target_labels,rf_pred)}')\n",
        "print(f'Nilai Confusion Matrix : {m.confusion_matrix(train_target_labels,rf_pred)}')\n",
        "print(f'Classification Report :{m.classification_report(train_target_labels,rf_pred)})')"
      ]
    },
    {
      "cell_type": "code",
      "execution_count": null,
      "metadata": {
        "id": "_v5ggXkMbDWk"
      },
      "outputs": [],
      "source": []
    }
  ],
  "metadata": {
    "colab": {
      "collapsed_sections": [
        "a9XmreOQbDWj"
      ],
      "provenance": []
    },
    "kernelspec": {
      "display_name": "Python 3.9.12 ('base')",
      "language": "python",
      "name": "python3"
    },
    "language_info": {
      "codemirror_mode": {
        "name": "ipython",
        "version": 3
      },
      "file_extension": ".py",
      "mimetype": "text/x-python",
      "name": "python",
      "nbconvert_exporter": "python",
      "pygments_lexer": "ipython3",
      "version": "3.9.12"
    },
    "orig_nbformat": 4,
    "vscode": {
      "interpreter": {
        "hash": "6defd577cd85e3649e86c46a537635b7104b081260a238509c81cac8b534171b"
      }
    }
  },
  "nbformat": 4,
  "nbformat_minor": 0
}
